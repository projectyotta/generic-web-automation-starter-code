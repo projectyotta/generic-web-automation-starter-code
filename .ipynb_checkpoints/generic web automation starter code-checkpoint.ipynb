{
 "cells": [
  {
   "cell_type": "code",
   "execution_count": 1,
   "metadata": {},
   "outputs": [],
   "source": [
    "# this file will consist of functions that can most commonly be used for web scraping type tasks. \n",
    "# Can combine these in multiple ways \n",
    "\n",
    "# Ideas for functions to be put in here \n",
    "\n",
    "# 1. Driver initialization functions \n",
    "# 2. Initial convert page source to bs4 , maybe have parsing in another seperate function. \n",
    "# 3. Push raw data to s3 , generic function \n",
    "# 4. Data input : \n",
    "    \n",
    "#     a. define an input file containing all records that need to be parsed. \n",
    "#     b. Divide file into n partitions depending on how many records (also updates based on records already processed). Can also convert this into a database model if it makes more sense. \n",
    "# 5. Function t0o run multiple instances of the scraper in parallel with a single script , also can monitor ram to figure out metrics to decide if to ramp up or down on number of instances. \n",
    "# 6. VPN functionality (maybe later) \n",
    "# 7. Exception handling and general logging standards \n",
    "# 8. A config file with all editable values \n",
    "\n"
   ]
  },
  {
   "cell_type": "code",
   "execution_count": null,
   "metadata": {},
   "outputs": [],
   "source": []
  }
 ],
 "metadata": {
  "kernelspec": {
   "display_name": "Python 3",
   "language": "python",
   "name": "python3"
  },
  "language_info": {
   "codemirror_mode": {
    "name": "ipython",
    "version": 3
   },
   "file_extension": ".py",
   "mimetype": "text/x-python",
   "name": "python",
   "nbconvert_exporter": "python",
   "pygments_lexer": "ipython3",
   "version": "3.8.3"
  }
 },
 "nbformat": 4,
 "nbformat_minor": 4
}
